{
 "cells": [
  {
   "cell_type": "code",
   "execution_count": 1,
   "metadata": {},
   "outputs": [],
   "source": [
    "%matplotlib inline\n",
    "import numpy as np\n",
    "from pylab import *\n",
    "from tqdm import trange \n"
   ]
  },
  {
   "cell_type": "code",
   "execution_count": 2,
   "metadata": {},
   "outputs": [],
   "source": [
    "# fetch mnist dataset \n",
    "import requests, gzip, os, hashlib\n",
    "\n",
    "def fetch(url):\n",
    "    fp = os.path.join(\"/tmp\", hashlib.md5(url.encode('utf-8')).hexdigest())\n",
    "    if os.path.isfile(fp):\n",
    "        with open(fp, \"rb\") as handler:\n",
    "            data = handler.read()\n",
    "    else:\n",
    "        with open(fp, \"wb\") as handler:\n",
    "            data = requests.get(url).content\n",
    "            handler.write(data)\n",
    "        \n",
    "    return np.frombuffer(gzip.decompress(data), dtype=np.uint8).copy()\n",
    "\n",
    "X_train = fetch(\"http://yann.lecun.com/exdb/mnist/train-images-idx3-ubyte.gz\")[0x10:].reshape((-1, 28, 28))\n",
    "Y_train = fetch(\"http://yann.lecun.com/exdb/mnist/train-labels-idx1-ubyte.gz\")[8:]\n",
    "X_test = fetch(\"http://yann.lecun.com/exdb/mnist/t10k-images-idx3-ubyte.gz\")[0x10:].reshape((-1, 28, 28))\n",
    "Y_test = fetch(\"http://yann.lecun.com/exdb/mnist/t10k-labels-idx1-ubyte.gz\")[8:]\n",
    "\n",
    "    "
   ]
  },
  {
   "cell_type": "markdown",
   "metadata": {},
   "source": [
    "# specs\n",
    "https://github.com/geohot/ai-notebooks/blob/master/mnist_from_scratch.ipynb\n",
    "https://victorzhou.com/blog/intro-to-neural-networks/\n"
   ]
  },
  {
   "cell_type": "code",
   "execution_count": 3,
   "metadata": {},
   "outputs": [
    {
     "data": {
      "text/plain": [
       "(60000, 28, 28)"
      ]
     },
     "execution_count": 3,
     "metadata": {},
     "output_type": "execute_result"
    }
   ],
   "source": [
    "X_train.shape"
   ]
  },
  {
   "cell_type": "code",
   "execution_count": 4,
   "metadata": {},
   "outputs": [
    {
     "data": {
      "text/plain": [
       "(<matplotlib.image.AxesImage at 0x1129951f0>, 5)"
      ]
     },
     "execution_count": 4,
     "metadata": {},
     "output_type": "execute_result"
    },
    {
     "data": {
      "image/png": "[encoded data removed]",
      "text/plain": [
       "<Figure size 432x288 with 1 Axes>"
      ]
     },
     "metadata": {
      "needs_background": "light"
     },
     "output_type": "display_data"
    }
   ],
   "source": [
    "imshow(X_train[0]),Y_train[0]"
   ]
  },
  {
   "cell_type": "code",
   "execution_count": 2,
   "metadata": {},
   "outputs": [
    {
     "ename": "NameError",
     "evalue": "name 'np' is not defined",
     "output_type": "error",
     "traceback": [
      "\u001b[0;31m---------------------------------------------------------------------------\u001b[0m",
      "\u001b[0;31mNameError\u001b[0m                                 Traceback (most recent call last)",
      "\u001b[1;32m/Users/martinantos/Documents/sunday/notebooks/mnist_numpy.ipynb Cell 6'\u001b[0m in \u001b[0;36m<cell line: 19>\u001b[0;34m()\u001b[0m\n\u001b[1;32m     <a href='vscode-notebook-cell:/Users/martinantos/Documents/sunday/notebooks/mnist_numpy.ipynb#ch0000005?line=13'>14</a>\u001b[0m     weights \u001b[39m=\u001b[39m np\u001b[39m.\u001b[39mrandom\u001b[39m.\u001b[39muniform(\u001b[39m-\u001b[39m\u001b[39m1.\u001b[39m,\u001b[39m1.\u001b[39m,size\u001b[39m=\u001b[39m(input_size, output_size)\u001b[39m/\u001b[39mnp\u001b[39m.\u001b[39msqrt(input_size\u001b[39m*\u001b[39moutput_size))\n\u001b[1;32m     <a href='vscode-notebook-cell:/Users/martinantos/Documents/sunday/notebooks/mnist_numpy.ipynb#ch0000005?line=15'>16</a>\u001b[0m     \u001b[39mreturn\u001b[39;00m weights\u001b[39m.\u001b[39mastype(np\u001b[39m.\u001b[39mfloat32) \u001b[39m#, bias\u001b[39;00m\n\u001b[0;32m---> <a href='vscode-notebook-cell:/Users/martinantos/Documents/sunday/notebooks/mnist_numpy.ipynb#ch0000005?line=18'>19</a>\u001b[0m l1 \u001b[39m=\u001b[39m layer(\u001b[39m784\u001b[39;49m,\u001b[39m128\u001b[39;49m)\n\u001b[1;32m     <a href='vscode-notebook-cell:/Users/martinantos/Documents/sunday/notebooks/mnist_numpy.ipynb#ch0000005?line=19'>20</a>\u001b[0m l2 \u001b[39m=\u001b[39m layer(\u001b[39m128\u001b[39m,\u001b[39m10\u001b[39m)\n",
      "\u001b[1;32m/Users/martinantos/Documents/sunday/notebooks/mnist_numpy.ipynb Cell 6'\u001b[0m in \u001b[0;36mlayer\u001b[0;34m(input_size, output_size)\u001b[0m\n\u001b[1;32m     <a href='vscode-notebook-cell:/Users/martinantos/Documents/sunday/notebooks/mnist_numpy.ipynb#ch0000005?line=11'>12</a>\u001b[0m \u001b[39mdef\u001b[39;00m \u001b[39mlayer\u001b[39m(input_size, output_size):\n\u001b[1;32m     <a href='vscode-notebook-cell:/Users/martinantos/Documents/sunday/notebooks/mnist_numpy.ipynb#ch0000005?line=12'>13</a>\u001b[0m     \u001b[39m# bias = np.random.uniform(size=(input_size, output_size))\u001b[39;00m\n\u001b[0;32m---> <a href='vscode-notebook-cell:/Users/martinantos/Documents/sunday/notebooks/mnist_numpy.ipynb#ch0000005?line=13'>14</a>\u001b[0m     weights \u001b[39m=\u001b[39m np\u001b[39m.\u001b[39mrandom\u001b[39m.\u001b[39muniform(\u001b[39m-\u001b[39m\u001b[39m1.\u001b[39m,\u001b[39m1.\u001b[39m,size\u001b[39m=\u001b[39m(input_size, output_size)\u001b[39m/\u001b[39mnp\u001b[39m.\u001b[39msqrt(input_size\u001b[39m*\u001b[39moutput_size))\n\u001b[1;32m     <a href='vscode-notebook-cell:/Users/martinantos/Documents/sunday/notebooks/mnist_numpy.ipynb#ch0000005?line=15'>16</a>\u001b[0m     \u001b[39mreturn\u001b[39;00m weights\u001b[39m.\u001b[39mastype(np\u001b[39m.\u001b[39mfloat32)\n",
      "\u001b[0;31mNameError\u001b[0m: name 'np' is not defined"
     ]
    }
   ],
   "source": [
    "def sigmoid(x, derivative=False):\n",
    "    if derivative:\n",
    "        return (np.exp(-x))/((np.exp(-x)+1)**2)\n",
    "    return 1 / (1+np.exp(-x))\n",
    "\n",
    "\n",
    "def softmax(x):\n",
    "    exps = np.exp(x-x.max())\n",
    "    return exps / np.sum(exps, axis=0)\n",
    "\n",
    "\n",
    "def relu(x):\n",
    "    return np.maximum(0,x)\n",
    "\n",
    "\n",
    "def layer(input_size, output_size):\n",
    "    # bias = np.random.uniform(size=(input_size, output_size))\n",
    "    weights = np.random.uniform(-1.,1.,size=(input_size, output_size)/np.sqrt(input_size*output_size))\n",
    "\n",
    "    return weights.astype(np.float32) #, bias\n",
    "\n",
    "\n",
    "l1 = layer(784,128)\n",
    "l2 = layer(128,10)\n"
   ]
  },
  {
   "cell_type": "code",
   "execution_count": 6,
   "metadata": {},
   "outputs": [],
   "source": [
    "BS = 128\n",
    "samp = np.random.randint(0, X_train.shape[0], size=(BS))"
   ]
  },
  {
   "cell_type": "code",
   "execution_count": 11,
   "metadata": {},
   "outputs": [
    {
     "name": "stdout",
     "output_type": "stream",
     "text": [
      "dfdx: 4 \n",
      "dfdy: 4 \n",
      "dfdz: 5\n"
     ]
    }
   ],
   "source": [
    "# understanding gradients\n",
    "# https://cs231n.github.io/optimization-2/\n",
    "# partial derrivative / gradient = rate of change at f(x,y)\n",
    "# chain rule = multiplication of components holding the gradients e.g. df/dx = df/dq * dq/dx\n",
    "\n",
    "# compute gradients for each value where f(x,y,z) = (x+y)*z\n",
    "x = 7\n",
    "y = -2\n",
    "z = 4\n",
    "\n",
    "q = x+y\n",
    "f = q * z\n",
    "\n",
    "# backprop through f first. partial derrivative of z = q and dq = z\n",
    "dfdz = q # incremental rate of change in multiplication is the value of the other component\n",
    "dfdq = z\n",
    "dqdx = 1 # incremental rate of change in sum is always 1\n",
    "dqdy = 1\n",
    "\n",
    "# backprop through q \n",
    "dfdx = dfdq * dqdx # apply chain rule by multiplying\n",
    "dfdy = dfdq * dqdy \n",
    "\n",
    "print(f'dfdx: {dfdx} \\ndfdy: {dfdy} \\ndfdz: {dfdz}') # these gradients = sensitivity of each value on f"
   ]
  },
  {
   "cell_type": "code",
   "execution_count": 8,
   "metadata": {},
   "outputs": [
    {
     "ename": "SyntaxError",
     "evalue": "invalid syntax (591413850.py, line 24)",
     "output_type": "error",
     "traceback": [
      "\u001b[0;36m  Input \u001b[0;32mIn [8]\u001b[0;36m\u001b[0m\n\u001b[0;31m    d_sm =\u001b[0m\n\u001b[0m           ^\u001b[0m\n\u001b[0;31mSyntaxError\u001b[0m\u001b[0;31m:\u001b[0m invalid syntax\n"
     ]
    }
   ],
   "source": [
    "def forward_backward(x, y):\n",
    "    # get true labels as an array for each image \n",
    "    y_true = np.zeros((len(y),10), np.float32)\n",
    "    y_true[range(y_true.shape[0]), y] = 1  \n",
    "\n",
    "    # foward pass\n",
    "    x_l1 = x.dot(l1) # dot product = sum of vectors into a scalar\n",
    "    # x_sigm = sigmoid(x_l1)\n",
    "    x_relu = relu(x_l1) # relu wins \n",
    "    x_l2 = x_relu.dot(l2)\n",
    "    out = softmax(x_l2)\n",
    "\n",
    "    # MSE \n",
    "    loss = np.square(y_true-out)/2\n",
    "\n",
    "    # backprop - compute gradients in reverse order \n",
    "    d_out = - y_true / len(y)\n",
    "\n",
    "    # derrivative of softmax \n",
    "    d_sm = \n",
    "    \n",
    "\n",
    "    # derrivative of sigmoid \n",
    "    dx_sigm = x_sigm * (1-x_sigm)\n",
    "\n",
    "    # d of l2\n",
    "    dx_l2 = \n",
    "    \n",
    "    # log softtmax derrivative\n",
    "    dx_lsm = d_out - np.exp(x_l2) * d_out.sum(axis=1).reshape((-1,1))\n",
    "    \n",
    "    # derrivate of l2\n",
    "    d_l2 = x_sigm.T.dot(dx_lsm)\n",
    "    dx_sigm = dx_lsm.dot(l2.T)\n",
    "\n",
    "    # derrivate of sigm\n",
    "    dx_l1 = dx_sigm * (1 - dx_sigm)\n",
    "\n",
    "    # derrivate of l1\n",
    "    d_l1 = x.T.dot(dx_l1)\n",
    "\n",
    "    return loss, x_l2, d_l1, d_l2"
   ]
  },
  {
   "cell_type": "code",
   "execution_count": 1,
   "metadata": {},
   "outputs": [],
   "source": [
    "# TODO implement SGD\n",
    "lr = 0.001\n",
    "batch_size = 128\n",
    "\n",
    "# training loop \n",
    "# for epoch in trange(1000):\n",
    "    "
   ]
  },
  {
   "cell_type": "code",
   "execution_count": 32,
   "metadata": {},
   "outputs": [
    {
     "data": {
      "text/plain": [
       "0.0958"
      ]
     },
     "execution_count": 32,
     "metadata": {},
     "output_type": "execute_result"
    }
   ],
   "source": [
    "# def forward(x):\n",
    "#     x = x.dot(l1)\n",
    "#     x = sigmoid(x)\n",
    "#     x = x.dot(l2)\n",
    "#     return x \n",
    "\n",
    "# def eval():\n",
    "#     y_preds_out = forward(X_test.reshape((-1,28*28)))\n",
    "#     y_preds = np.argmax(y_preds_out, axis=1)\n",
    "#     return (Y_test == y_preds).mean()\n",
    "\n",
    "# eval()"
   ]
  },
  {
   "cell_type": "code",
   "execution_count": null,
   "metadata": {},
   "outputs": [],
   "source": []
  }
 ],
 "metadata": {
  "interpreter": {
   "hash": "f1a32635b2ab0fad915e5caac57c93b02d784bc24502f0b10a1faec5239fdca2"
  },
  "kernelspec": {
   "display_name": "Python 3.9.10 ('env': venv)",
   "language": "python",
   "name": "python3"
  },
  "language_info": {
   "codemirror_mode": {
    "name": "ipython",
    "version": 3
   },
   "file_extension": ".py",
   "mimetype": "text/x-python",
   "name": "python",
   "nbconvert_exporter": "python",
   "pygments_lexer": "ipython3",
   "version": "3.9.10"
  },
  "orig_nbformat": 4
 },
 "nbformat": 4,
 "nbformat_minor": 2
}
